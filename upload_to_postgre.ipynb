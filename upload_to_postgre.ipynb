{
 "cells": [
  {
   "cell_type": "code",
   "execution_count": 146,
   "metadata": {},
   "outputs": [],
   "source": [
    "import pandas as pd\n",
    "from sqlalchemy import URL, create_engine\n",
    "import json\n",
    "import os\n",
    "from table_schema import Base, Dates, Branch, Countries, Dealer, Products, Revenue"
   ]
  },
  {
   "cell_type": "code",
   "execution_count": 147,
   "metadata": {},
   "outputs": [
    {
     "name": "stdout",
     "output_type": "stream",
     "text": [
      "None\n"
     ]
    }
   ],
   "source": [
    "# Create connection to postgre\n",
    "\n",
    "print(os.environ.get(\"DBHOST\"))"
   ]
  },
  {
   "cell_type": "code",
   "execution_count": 137,
   "metadata": {},
   "outputs": [],
   "source": [
    "filepath = 'raw_data/star-schema-2.xlsx'\n",
    "config_file = 'config.json'\n",
    "\n",
    "df_dict = {}\n",
    "\n",
    "with open(config_file, 'r') as f:\n",
    "    config = json.load(f)\n",
    "\n",
    "for sheet in config:\n",
    "    params = config[sheet][\"READ_PARAMS\"]\n",
    "    df_dict[sheet] = pd.read_excel(filepath, **params)\n",
    "\n",
    "\n",
    "# Country table contains duplicates\n",
    "\n",
    "df = df = df_dict[\"Country\"]\n",
    "df.drop_duplicates(subset=[\"country_id\"], inplace=True)"
   ]
  },
  {
   "cell_type": "code",
   "execution_count": 138,
   "metadata": {},
   "outputs": [
    {
     "data": {
      "text/html": [
       "<div>\n",
       "<style scoped>\n",
       "    .dataframe tbody tr th:only-of-type {\n",
       "        vertical-align: middle;\n",
       "    }\n",
       "\n",
       "    .dataframe tbody tr th {\n",
       "        vertical-align: top;\n",
       "    }\n",
       "\n",
       "    .dataframe thead th {\n",
       "        text-align: right;\n",
       "    }\n",
       "</style>\n",
       "<table border=\"1\" class=\"dataframe\">\n",
       "  <thead>\n",
       "    <tr style=\"text-align: right;\">\n",
       "      <th></th>\n",
       "      <th>country_id</th>\n",
       "      <th>country_nm</th>\n",
       "    </tr>\n",
       "  </thead>\n",
       "  <tbody>\n",
       "  </tbody>\n",
       "</table>\n",
       "</div>"
      ],
      "text/plain": [
       "Empty DataFrame\n",
       "Columns: [country_id, country_nm]\n",
       "Index: []"
      ]
     },
     "execution_count": 138,
     "metadata": {},
     "output_type": "execute_result"
    }
   ],
   "source": [
    "\n"
   ]
  },
  {
   "cell_type": "code",
   "execution_count": 139,
   "metadata": {},
   "outputs": [
    {
     "data": {
      "text/html": [
       "<div>\n",
       "<style scoped>\n",
       "    .dataframe tbody tr th:only-of-type {\n",
       "        vertical-align: middle;\n",
       "    }\n",
       "\n",
       "    .dataframe tbody tr th {\n",
       "        vertical-align: top;\n",
       "    }\n",
       "\n",
       "    .dataframe thead th {\n",
       "        text-align: right;\n",
       "    }\n",
       "</style>\n",
       "<table border=\"1\" class=\"dataframe\">\n",
       "  <thead>\n",
       "    <tr style=\"text-align: right;\">\n",
       "      <th></th>\n",
       "      <th>dealer_id</th>\n",
       "      <th>dealer_nm</th>\n",
       "      <th>location_id</th>\n",
       "      <th>location_nm</th>\n",
       "      <th>country_id</th>\n",
       "    </tr>\n",
       "  </thead>\n",
       "  <tbody>\n",
       "    <tr>\n",
       "      <th>0</th>\n",
       "      <td>DLR0001</td>\n",
       "      <td>AC Cars Motors</td>\n",
       "      <td>LOC002</td>\n",
       "      <td>Kandahar</td>\n",
       "      <td>CNTR001</td>\n",
       "    </tr>\n",
       "    <tr>\n",
       "      <th>1</th>\n",
       "      <td>DLR0002</td>\n",
       "      <td>Acura Motors</td>\n",
       "      <td>LOC004</td>\n",
       "      <td>Ayios Nikolaos</td>\n",
       "      <td>CNTR002</td>\n",
       "    </tr>\n",
       "    <tr>\n",
       "      <th>2</th>\n",
       "      <td>DLR0003</td>\n",
       "      <td>Aixam-Mega (including Arola) Motors</td>\n",
       "      <td>LOC006</td>\n",
       "      <td>Jomala</td>\n",
       "      <td>CNTR003</td>\n",
       "    </tr>\n",
       "    <tr>\n",
       "      <th>3</th>\n",
       "      <td>DLR0004</td>\n",
       "      <td>Alfa Romeo Motors</td>\n",
       "      <td>LOC008</td>\n",
       "      <td>Durrës</td>\n",
       "      <td>CNTR004</td>\n",
       "    </tr>\n",
       "    <tr>\n",
       "      <th>4</th>\n",
       "      <td>DLR0005</td>\n",
       "      <td>Alpine Motors</td>\n",
       "      <td>LOC010</td>\n",
       "      <td>Oran</td>\n",
       "      <td>CNTR005</td>\n",
       "    </tr>\n",
       "    <tr>\n",
       "      <th>...</th>\n",
       "      <td>...</td>\n",
       "      <td>...</td>\n",
       "      <td>...</td>\n",
       "      <td>...</td>\n",
       "      <td>...</td>\n",
       "    </tr>\n",
       "    <tr>\n",
       "      <th>257</th>\n",
       "      <td>DLR0263</td>\n",
       "      <td>Auto-Union Motors</td>\n",
       "      <td>LOC516</td>\n",
       "      <td>Utufua</td>\n",
       "      <td>CNTR242</td>\n",
       "    </tr>\n",
       "    <tr>\n",
       "      <th>258</th>\n",
       "      <td>DLR0264</td>\n",
       "      <td>Auverland Motors</td>\n",
       "      <td>LOC518</td>\n",
       "      <td>Dakhla</td>\n",
       "      <td>CNTR243</td>\n",
       "    </tr>\n",
       "    <tr>\n",
       "      <th>259</th>\n",
       "      <td>DLR0265</td>\n",
       "      <td>Bentley Motors</td>\n",
       "      <td>LOC520</td>\n",
       "      <td>Aden</td>\n",
       "      <td>CNTR244</td>\n",
       "    </tr>\n",
       "    <tr>\n",
       "      <th>260</th>\n",
       "      <td>DLR0266</td>\n",
       "      <td>Bitter Motors</td>\n",
       "      <td>LOC522</td>\n",
       "      <td>Kitwe</td>\n",
       "      <td>CNTR245</td>\n",
       "    </tr>\n",
       "    <tr>\n",
       "      <th>261</th>\n",
       "      <td>DLR0267</td>\n",
       "      <td>BMW Motors</td>\n",
       "      <td>LOC524</td>\n",
       "      <td>Bulawayo</td>\n",
       "      <td>CNTR246</td>\n",
       "    </tr>\n",
       "  </tbody>\n",
       "</table>\n",
       "<p>262 rows × 5 columns</p>\n",
       "</div>"
      ],
      "text/plain": [
       "    dealer_id                            dealer_nm location_id  \\\n",
       "0     DLR0001                       AC Cars Motors      LOC002   \n",
       "1     DLR0002                         Acura Motors      LOC004   \n",
       "2     DLR0003  Aixam-Mega (including Arola) Motors      LOC006   \n",
       "3     DLR0004                    Alfa Romeo Motors      LOC008   \n",
       "4     DLR0005                        Alpine Motors      LOC010   \n",
       "..        ...                                  ...         ...   \n",
       "257   DLR0263                    Auto-Union Motors      LOC516   \n",
       "258   DLR0264                     Auverland Motors      LOC518   \n",
       "259   DLR0265                       Bentley Motors      LOC520   \n",
       "260   DLR0266                        Bitter Motors      LOC522   \n",
       "261   DLR0267                           BMW Motors      LOC524   \n",
       "\n",
       "        location_nm country_id  \n",
       "0          Kandahar    CNTR001  \n",
       "1    Ayios Nikolaos    CNTR002  \n",
       "2            Jomala    CNTR003  \n",
       "3            Durrës    CNTR004  \n",
       "4              Oran    CNTR005  \n",
       "..              ...        ...  \n",
       "257          Utufua    CNTR242  \n",
       "258          Dakhla    CNTR243  \n",
       "259            Aden    CNTR244  \n",
       "260           Kitwe    CNTR245  \n",
       "261        Bulawayo    CNTR246  \n",
       "\n",
       "[262 rows x 5 columns]"
      ]
     },
     "execution_count": 139,
     "metadata": {},
     "output_type": "execute_result"
    }
   ],
   "source": [
    "df_dict[\"Dealer\"]"
   ]
  }
 ],
 "metadata": {
  "kernelspec": {
   "display_name": ".venv",
   "language": "python",
   "name": "python3"
  },
  "language_info": {
   "codemirror_mode": {
    "name": "ipython",
    "version": 3
   },
   "file_extension": ".py",
   "mimetype": "text/x-python",
   "name": "python",
   "nbconvert_exporter": "python",
   "pygments_lexer": "ipython3",
   "version": "3.11.2"
  }
 },
 "nbformat": 4,
 "nbformat_minor": 2
}
